{
 "cells": [
  {
   "cell_type": "markdown",
   "id": "030ef564-cb80-406d-9482-b2bd9e00bba8",
   "metadata": {},
   "source": [
    "Variables"
   ]
  },
  {
   "cell_type": "code",
   "execution_count": 23,
   "id": "4125d698-6329-4334-8250-1cbfdf43418b",
   "metadata": {},
   "outputs": [
    {
     "name": "stdout",
     "output_type": "stream",
     "text": [
      "Gandalf\n",
      "<class 'str'>\n",
      "this is string and is 870\n",
      "<class 'str'>\n",
      "3600\n"
     ]
    }
   ],
   "source": [
    "name = \"Gandalf\" #string type\n",
    "age = 850 #number type \n",
    "age = 'this is string and is 870'\n",
    "fly_speedperhr = 150\n",
    "wizard_status = True\n",
    "\n",
    "\n",
    "print(name)\n",
    "type_of_object = type(name)\n",
    "print(type_of_object)\n",
    "\n",
    "print(age)\n",
    "print(type(age))\n",
    "\n",
    "fly_speedperday = fly_speedperhr * 24\n",
    "print (fly_speedperday)"
   ]
  },
  {
   "cell_type": "code",
   "execution_count": 24,
   "id": "03119a5c-7878-4307-a7cd-eead4da6eb3f",
   "metadata": {},
   "outputs": [],
   "source": [
    "#these are our clts\n",
    "client_id = [0,1,2,3,4] #list\n",
    "client_list = ['Gandalf','Han solo','Baby Yoda', 'Blade Runner', 'Harry Potter']\n",
    "client_age = [850, 35, 1, -20, 15]\n",
    "client_wizard_status = [True,False,False,False,True]\n"
   ]
  },
  {
   "cell_type": "code",
   "execution_count": 32,
   "id": "e1cef444-58a4-43a9-9cac-fd4d76e62bd7",
   "metadata": {},
   "outputs": [
    {
     "name": "stdout",
     "output_type": "stream",
     "text": [
      "Baby Yoda\n",
      "-20\n"
     ]
    }
   ],
   "source": [
    "print(client_list[2])\n",
    "print(client_age[3])"
   ]
  },
  {
   "cell_type": "code",
   "execution_count": 53,
   "id": "4e118911-1b25-4413-b11e-d98482d36209",
   "metadata": {},
   "outputs": [
    {
     "name": "stdout",
     "output_type": "stream",
     "text": [
      "Gandalf\n",
      "Han solo\n",
      "Baby Yoda\n",
      "Blade Runner\n",
      "Harry Potter\n"
     ]
    }
   ],
   "source": [
    "for baby_kanoties in client_list:\n",
    "    print(baby_kanoties)"
   ]
  },
  {
   "cell_type": "code",
   "execution_count": 52,
   "id": "c519eff3-54eb-4e23-a658-378e8d4003b1",
   "metadata": {},
   "outputs": [
    {
     "name": "stdout",
     "output_type": "stream",
     "text": [
      "850\n",
      "35\n",
      "1\n",
      "-20\n",
      "15\n"
     ]
    }
   ],
   "source": [
    "for clients in client_age:\n",
    "    print(clients)"
   ]
  },
  {
   "cell_type": "code",
   "execution_count": 51,
   "id": "4c3317e2-2218-438c-9fd0-03d3e70420c3",
   "metadata": {},
   "outputs": [
    {
     "name": "stdout",
     "output_type": "stream",
     "text": [
      "True\n",
      "False\n",
      "False\n",
      "False\n",
      "True\n"
     ]
    }
   ],
   "source": [
    "for clients in client_wizard_status:\n",
    "    print(clients)\n",
    "    "
   ]
  },
  {
   "cell_type": "code",
   "execution_count": 55,
   "id": "dd8622fb-8967-4ae7-b7e2-a1ea6c5d6eb3",
   "metadata": {},
   "outputs": [
    {
     "name": "stdout",
     "output_type": "stream",
     "text": [
      "Blade Runner, YOU ARE NOT BORN YET, PISS OFF\n"
     ]
    }
   ],
   "source": [
    "name = client_list[3]\n",
    "age = client_age[3]\n",
    "wizard_status = client_wizard_status[3]\n",
    "\n",
    "if age <= 0:\n",
    "    print(f\"{name}, YOU ARE NOT BORN YET, PISS OFF\")\n",
    "elif age>0 and age<30:\n",
    "    print(f\"{name}, you are great, keep cash and dance naked\")\n",
    "elif age == 850:\n",
    "    print(f\"{name}, excuse me can I have your boogie please\")\n",
    "else:\n",
    "    print(\"you should keep buy crypto with all your money ever made\")\n",
    "          "
   ]
  },
  {
   "cell_type": "code",
   "execution_count": 39,
   "id": "bf4bae98-3b19-4b98-a9df-a9b0762dc685",
   "metadata": {},
   "outputs": [
    {
     "name": "stdout",
     "output_type": "stream",
     "text": [
      "Han solo\n",
      "<class 'str'>\n",
      "35\n",
      "<class 'int'>\n",
      "False\n",
      "<class 'bool'>\n",
      "[0, 1, 2, 3, 4]\n",
      "<class 'list'>\n",
      "['Gandalf', 'Han solo', 'Baby Yoda', 'Blade Runner', 'Harry Potter']\n",
      "<class 'list'>\n"
     ]
    }
   ],
   "source": [
    "print(name)\n",
    "print(type(name))\n",
    "print(age)\n",
    "print(type(age))\n",
    "print(wizard_status)\n",
    "print(type(wizard_status))\n",
    "print(client_id)\n",
    "print(type(client_id))\n",
    "print(client_list)\n",
    "print(type(client_list))"
   ]
  },
  {
   "cell_type": "markdown",
   "id": "c432754a-ea72-4916-a5e8-b708f55dbbff",
   "metadata": {},
   "source": [
    "conditional"
   ]
  },
  {
   "cell_type": "markdown",
   "id": "5b329def-aa83-4298-a754-f28d5ffb85be",
   "metadata": {},
   "source": [
    "## LOOP \n",
    "Print code will run for each participant on the mentioned list\n",
    "* for colon : we must have indentation\n",
    "# print(range(x,(x+9)))\n",
    "# print(type(range(x,(x+9)))\n",
    "# n= {(x+9) - x}   not including (x+9)"
   ]
  },
  {
   "cell_type": "code",
   "execution_count": null,
   "id": "4ba1fe75-77da-4b5c-b62a-ae13ab501ca1",
   "metadata": {},
   "outputs": [],
   "source": [
    "#to print numbers we go \n",
    "    print(numbers)\n",
    "#to print the list we go\n",
    "    print[numbers]"
   ]
  },
  {
   "cell_type": "markdown",
   "id": "74831081-b1b5-4efd-a960-88aba80dc8a5",
   "metadata": {},
   "source": [
    "# To break the loop \n",
    "go \n",
    "\n",
    "if (x == n):\n",
    "    then break"
   ]
  },
  {
   "cell_type": "code",
   "execution_count": 44,
   "id": "b3b13a90-4d31-4c49-a060-06ab7f5b2b7b",
   "metadata": {},
   "outputs": [
    {
     "name": "stdout",
     "output_type": "stream",
     "text": [
      "44\n",
      "45\n",
      "46\n",
      "47\n",
      "48\n",
      "49\n",
      "50\n"
     ]
    }
   ],
   "source": [
    "for numbers in range (44,51):\n",
    "    print (numbers)"
   ]
  },
  {
   "cell_type": "code",
   "execution_count": 45,
   "id": "ac71976d-3dcc-4fba-8949-40fc060786bb",
   "metadata": {},
   "outputs": [
    {
     "name": "stdout",
     "output_type": "stream",
     "text": [
      "78\n",
      "79\n",
      "80\n",
      "81\n",
      "82\n"
     ]
    }
   ],
   "source": [
    "for numbers in range (78,83):\n",
    "    print (numbers)"
   ]
  },
  {
   "cell_type": "code",
   "execution_count": 49,
   "id": "46926043-089a-436b-919b-d74d6f7e9f3e",
   "metadata": {},
   "outputs": [
    {
     "name": "stdout",
     "output_type": "stream",
     "text": [
      "a\n",
      "j\n",
      "a\n",
      "b\n",
      " \n",
      "f\n",
      "u\n",
      "n\n",
      " \n",
      "d\n",
      "a\n",
      "r\n",
      "i\n",
      "m\n",
      " \n",
      "b\n",
      "a\n",
      "i\n",
      "n\n",
      " \n",
      "p\n",
      "y\n",
      "t\n",
      "h\n",
      "o\n",
      "n\n",
      " \n",
      "k\n",
      "h\n",
      "o\n",
      "d\n",
      "a\n",
      "i\n",
      "e\n"
     ]
    }
   ],
   "source": [
    "for letter in \"ajab fun darim bain python khodaie\":\n",
    "    print(letter)"
   ]
  },
  {
   "cell_type": "code",
   "execution_count": null,
   "id": "278f953f-2e45-42ab-a402-82f2a865fbc8",
   "metadata": {},
   "outputs": [],
   "source": [
    "client_id = [0,1,2,3,4] #list\n",
    "client_list = ['Gandalf','Han solo','Baby Yoda', 'Blade Runner', 'Harry Potter']\n",
    "client_age = [850, 35, 1, -20, 15]\n",
    "client_wizard_status = [True,False,False,False,True]"
   ]
  },
  {
   "cell_type": "code",
   "execution_count": 69,
   "id": "db868b65-1a08-4317-ab6a-7cfb5dcea9de",
   "metadata": {},
   "outputs": [],
   "source": [
    "client_id = [0,1,2,3,4]\n",
    "client_list = ['Gandalf','Han solo','Baby Yoda', 'Blade Runner', 'Harry Potter']\n",
    "client_age = [850, 35, 1, -20, 15]\n",
    "client_wizard_status = [True,False,False,False,True]"
   ]
  },
  {
   "cell_type": "code",
   "execution_count": 77,
   "id": "9bbf62ae-2ad8-42ba-ab9a-eae72cb5fd94",
   "metadata": {},
   "outputs": [
    {
     "name": "stdout",
     "output_type": "stream",
     "text": [
      "Gandalf, excuse me can I have your boogie please\n",
      "you should keep buy crypto with all your money ever made\n",
      "Baby Yoda, you are great, keep cash and dance naked\n"
     ]
    }
   ],
   "source": [
    "for ID in client_id:\n",
    "    if (ID == 3):\n",
    "        break\n",
    "    else:\n",
    "        name = client_list[ID]\n",
    "        age = client_age[ID]\n",
    "        wizard_status = client_wizard_status[ID]\n",
    "\n",
    "        if age <= 0:\n",
    "            print(f\"{name}, YOU ARE NOT BORN YET, PISS OFF\")\n",
    "        elif age>0 and age<30:\n",
    "            print(f\"{name}, you are great, keep cash and dance naked\")\n",
    "        elif age == 850:\n",
    "            print(f\"{name}, excuse me can I have your boogie please\")\n",
    "        else:\n",
    "            print(\"you should keep buy crypto with all your money ever made\")\n"
   ]
  },
  {
   "cell_type": "code",
   "execution_count": 129,
   "id": "9b450b2b-e82d-43ce-85ce-f37b103cd1bb",
   "metadata": {},
   "outputs": [
    {
     "name": "stdout",
     "output_type": "stream",
     "text": [
      "apple was up 0.01\n",
      "amazon was down 0.013333333333333334\n",
      "tesla stock price didnot change\n",
      "coinbase was up 0.1\n"
     ]
    }
   ],
   "source": [
    "stock_ids = [0,1,2,3]\n",
    "stock_list = ['apple', 'amazon', 'tesla', 'coinbase']\n",
    "stock_price_open = [100, 150, 330, 50]\n",
    "stock_price_close = [101, 148, 330, 55]\n",
    "\n",
    "for x in stock_ids:\n",
    "    if stock_price_open[x] > stock_price_close[x]:\n",
    "        price_down = stock_price_open[x] - stock_price_close[x]\n",
    "        percent_change = price_down/stock_price_open[x]\n",
    "        print(f\"{stock_list[x]} was down {percent_change}\")\n",
    "    elif stock_price_close[x] > stock_price_open[x]:\n",
    "        price_up = stock_price_close[x] - stock_price_open[x]\n",
    "        percent_change = price_up/stock_price_open[x]\n",
    "        print(f\"{stock_list[x]} was up {percent_change}\")\n",
    "    else:\n",
    "        print(f\"{stock_list[x]} stock price didnot change\")"
   ]
  },
  {
   "cell_type": "code",
   "execution_count": null,
   "id": "93266429-5c96-4537-ba5f-af61f3f7d48d",
   "metadata": {},
   "outputs": [],
   "source": []
  },
  {
   "cell_type": "markdown",
   "id": "371caa4e-c1f4-4f72-9ee6-28eb20b9bc29",
   "metadata": {},
   "source": [
    "write an interploted variable string if they are even"
   ]
  },
  {
   "cell_type": "code",
   "execution_count": 87,
   "id": "7fb5129a-ba34-4d23-b792-de829796d66b",
   "metadata": {},
   "outputs": [
    {
     "name": "stdout",
     "output_type": "stream",
     "text": [
      "now we count the evens that is : 3\n"
     ]
    }
   ],
   "source": [
    "integers = [2, 4, 5, 6]\n",
    "\n",
    "count_even = 0\n",
    "\n",
    "for x in integers:\n",
    "    if(x%2 == 0):\n",
    "        count_even += 1\n",
    "    \n",
    "    \n",
    "print(f'now we count the evens that is : {count_even}')"
   ]
  },
  {
   "cell_type": "markdown",
   "id": "f028f163-6f38-476e-b474-9fb449f5bf34",
   "metadata": {},
   "source": [
    "Creat a for loop for even and odd numbers with inerpolated variable and count each"
   ]
  },
  {
   "cell_type": "code",
   "execution_count": 89,
   "id": "8b2d5c8f-ed89-41b7-aac3-a0f4729301ec",
   "metadata": {},
   "outputs": [
    {
     "name": "stdout",
     "output_type": "stream",
     "text": [
      "If this works I am having fun till the end so that is odd : 5\n",
      "If this works I am even with most intelligent person : 4\n"
     ]
    }
   ],
   "source": [
    "numbers = [1, 2, 3, 4, 5, 6, 7, 8, 9]\n",
    "\n",
    "count_even = 0\n",
    "count_odd = 0\n",
    "\n",
    "for x in numbers:\n",
    "    if (x%2 == 1):\n",
    "        count_odd += 1\n",
    "    \n",
    "    elif (x%2 == 0):\n",
    "        count_even += 1\n",
    "\n",
    "print(f'If this works I am having fun till the end so that is odd : {count_odd}')\n",
    "print(f'If this works I am even with most intelligent person : {count_even}') "
   ]
  },
  {
   "cell_type": "code",
   "execution_count": 94,
   "id": "33b41753-2ad2-45a3-82a1-f3a4faede1c6",
   "metadata": {},
   "outputs": [
    {
     "name": "stdout",
     "output_type": "stream",
     "text": [
      "2\n",
      "4\n",
      "6\n",
      "even numbers of the list are : 3\n"
     ]
    }
   ],
   "source": [
    "numbers = [2, 4, 5, 6]\n",
    "count_even = 0\n",
    "\n",
    "for x in numbers:\n",
    "    if (x%2 == 0):\n",
    "        print(x)\n",
    "        count_even += 1\n",
    "print(f'even numbers of the list are : {count_even}')"
   ]
  },
  {
   "cell_type": "code",
   "execution_count": null,
   "id": "df263051-9326-4d8b-aca5-6e9095c801de",
   "metadata": {},
   "outputs": [],
   "source": [
    "numbers = [2, 4, 5, 6]\n"
   ]
  }
 ],
 "metadata": {
  "kernelspec": {
   "display_name": "Python 3 (ipykernel)",
   "language": "python",
   "name": "python3"
  },
  "language_info": {
   "codemirror_mode": {
    "name": "ipython",
    "version": 3
   },
   "file_extension": ".py",
   "mimetype": "text/x-python",
   "name": "python",
   "nbconvert_exporter": "python",
   "pygments_lexer": "ipython3",
   "version": "3.10.9"
  }
 },
 "nbformat": 4,
 "nbformat_minor": 5
}
